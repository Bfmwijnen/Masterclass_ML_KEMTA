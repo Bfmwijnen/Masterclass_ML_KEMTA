{
 "cells": [
  {
   "cell_type": "markdown",
   "metadata": {},
   "source": [
    "# Background information\n",
    "#### Context (from Kaggle.com)\n",
    "\n",
    "This data set dates from 1988 and consists of four databases: Cleveland, Hungary, Switzerland, and Long Beach V. It contains 76 attributes, including the predicted attribute, but all published experiments refer to using a subset of 14 of them. The \"target\" field refers to the presence of heart disease in the patient. It is integer valued 0 = no disease and 1 = disease.\n",
    "\n",
    "#### Attribute Information: \n",
    "1. age \n",
    "2. sex \n",
    "3. chest pain type (4 values) \n",
    "4. resting blood pressure \n",
    "5. serum cholestoral in mg/dl \n",
    "6. fasting blood sugar > 120 mg/dl \n",
    "7. resting electrocardiographic results (values 0,1,2) \n",
    "8. maximum heart rate achieved \n",
    "9. exercise induced angina \n",
    "10. oldpeak = ST depression induced by exercise relative to rest \n",
    "11. the slope of the peak exercise ST segment \n",
    "12. number of major vessels (0-3) colored by flourosopy \n",
    "13. thal: 0 = normal; 1 = fixed defect; 2 = reversable defect The names and social security numbers of the patients were recently removed from the database, replaced with dummy values.\n",
    "\n",
    "Link to dataset: https://www.kaggle.com/johnsmith88/heart-disease-dataset\n",
    "\n",
    "- Ben Wijnen, 21-04-2020\n",
    "- Department Clinical epidemiology and Medical Technology Assessment \n",
    "- ben.wijnen@mumc.nl\n"
   ]
  },
  {
   "cell_type": "code",
   "execution_count": null,
   "metadata": {
    "scrolled": true
   },
   "outputs": [],
   "source": [
    "## Command to see whether packages are installed and installs packages if not yet installed\n",
    "if(!any(rownames(installed.packages()) == 'ggplot2')) install.packages('ggplot2')\n",
    "if(!any(rownames(installed.packages()) == 'caret')) install.packages('caret')\n",
    "if(!any(rownames(installed.packages()) == 'rpart')) install.packages('rpart')\n",
    "if(!any(rownames(installed.packages()) == 'rpart.plot')) install.packages('rpart.plot')\n",
    "if(!any(rownames(installed.packages()) == 'dplyr')) install.packages('dplyr')\n",
    "if(!any(rownames(installed.packages()) == 'randomForest')) install.packages('randomForest')\n",
    "if(!any(rownames(installed.packages()) == 'e1071')) install.packages('e1071')\n",
    "if(!any(rownames(installed.packages()) == 'purrr')) install.packages('purrr')\n",
    "if(!any(rownames(installed.packages()) == 'DescTools')) install.packages('DescTools')\n",
    "if(!any(rownames(installed.packages()) == 'tidyr')) install.packages('tidyr')\n",
    "if(!any(rownames(installed.packages()) == 'glmnet')) install.packages('glmnet')\n",
    "\n",
    "library(glmnet)\n",
    "library(tidyr)\n",
    "library(DescTools)\n",
    "library(purrr)\n",
    "library(ggplot2)\n",
    "library(caret)\n",
    "library(rpart)\n",
    "library(rpart.plot)\n",
    "library(randomForest)\n",
    "library(dplyr)\n",
    "library(e1071)\n"
   ]
  },
  {
   "cell_type": "code",
   "execution_count": null,
   "metadata": {},
   "outputs": [],
   "source": [
    "## Load dataset\n",
    "rm(list = ls())  # Delete everything that is in R's memory\n",
    "options(scipen=999) \n",
    "dataset <- read.csv(\"heart.csv\", header = TRUE)\n"
   ]
  },
  {
   "cell_type": "code",
   "execution_count": null,
   "metadata": {
    "scrolled": true
   },
   "outputs": [],
   "source": [
    "## Explore dataset\n",
    "sapply(dataset, function(x) sum(is.na(x))) # map the number of missings\n",
    "str(dataset)"
   ]
  },
  {
   "cell_type": "code",
   "execution_count": null,
   "metadata": {},
   "outputs": [],
   "source": [
    "## change factors to factors\n",
    "factor_variables <- c(\"sex\", \n",
    "                      \"thal\", \n",
    "                      \"target\", \n",
    "                      \"cp\", \n",
    "                      \"exang\") \n",
    "\n",
    "dataset[factor_variables] <- lapply(dataset[factor_variables], factor) \n",
    "                                            "
   ]
  },
  {
   "cell_type": "code",
   "execution_count": null,
   "metadata": {},
   "outputs": [],
   "source": [
    "# Describtive statistics \n",
    "summary(dataset) ### Numeric variables are highlighted with *\n",
    "\n",
    "# map levels and frequencies per categorical variable\n",
    "temp <-  dataset %>% keep(is.factor)\n",
    "for (i in 1:ncol(temp)) {\n",
    "  print(names(temp[i]))\n",
    "  print(Freq(temp[,i]))}"
   ]
  },
  {
   "cell_type": "code",
   "execution_count": null,
   "metadata": {},
   "outputs": [],
   "source": [
    "## Histrograms per variable to check distribution and outliers\n",
    "dataset %>%\n",
    "  keep(is.numeric) %>%\n",
    "  gather() %>%\n",
    "  ggplot(aes(value)) +\n",
    "  facet_wrap(~ key, scales = \"free\") +\n",
    "  geom_histogram()"
   ]
  },
  {
   "cell_type": "code",
   "execution_count": null,
   "metadata": {},
   "outputs": [],
   "source": [
    "## Check near-zero variance\n",
    "nearZeroVar(dataset, saveMetrics = TRUE)\n"
   ]
  },
  {
   "cell_type": "code",
   "execution_count": null,
   "metadata": {},
   "outputs": [],
   "source": [
    "##### SET Y #######\n",
    "dataset$Y <- dataset$target ## set Y\n",
    "dataset$target <- NULL # delete duplicate variable "
   ]
  },
  {
   "cell_type": "code",
   "execution_count": null,
   "metadata": {},
   "outputs": [],
   "source": [
    "## Create train/test set\n",
    "set.seed (123456789)\n",
    "dt = sort(sample(nrow(dataset), nrow(dataset)*.7)) ## 70% in train set\n",
    "train<-dataset[dt,]\n",
    "test<-dataset[-dt,]\n",
    "\n",
    "# Cross-validation\n",
    "ctrl <- trainControl(method = \"repeatedcv\",\n",
    "                     number = 5,    # ten folds\n",
    "                     repeats = 3)   # repeated three times"
   ]
  },
  {
   "cell_type": "code",
   "execution_count": null,
   "metadata": {
    "scrolled": true
   },
   "outputs": [],
   "source": [
    "# Run models\n",
    "## Run LM\n",
    "lm <- train(Y ~ ., method = \"glm\", \n",
    "            data = train, \n",
    "            trControl = ctrl, \n",
    "            preProcess = c(\"center\"))\n",
    "lm\n",
    "plot(varImp(lm))\n"
   ]
  },
  {
   "cell_type": "code",
   "execution_count": null,
   "metadata": {},
   "outputs": [],
   "source": [
    "## Run LASSO\n",
    "LassoFit <- train(Y ~ ., data = train,\n",
    "                  method = \"glmnet\",\n",
    "                  family = \"binomial\",\n",
    "                  trControl = ctrl)\n",
    "LassoFit\n",
    "coef(LassoFit$finalModel, LassoFit$bestTune$lambda)\n",
    "plot(varImp(LassoFit,scale=F))\n",
    "\n"
   ]
  },
  {
   "cell_type": "code",
   "execution_count": null,
   "metadata": {},
   "outputs": [],
   "source": [
    "## Run kNN\n",
    "knnFit <- train(Y ~ ., \n",
    "                data = train, \n",
    "                method = \"knn\", \n",
    "                trControl = ctrl, \n",
    "                preProcess = c(\"center\",\"scale\"))\n",
    "\n",
    "knnFit\n",
    "plot(knnFit)\n",
    "plot(varImp(knnFit))\n"
   ]
  },
  {
   "cell_type": "code",
   "execution_count": null,
   "metadata": {},
   "outputs": [],
   "source": [
    "## Run regression tree\n",
    "tree <- rpart(Y~., data = train, control = rpart.control(minsplit = 15, cp = 0.01))\n",
    "rpart.plot(tree, main=\"Y met alle variabelen\")"
   ]
  },
  {
   "cell_type": "code",
   "execution_count": null,
   "metadata": {},
   "outputs": [],
   "source": [
    "## Run RF\n",
    "rf <- train(Y ~ ., method = \"rf\", \n",
    "            data = train, \n",
    "            trControl = ctrl, \n",
    "            preProcess = c(\"center\"))\n",
    "rf\n",
    "plot(rf)\n",
    "varImpPlot(rf$finalModel)\n"
   ]
  },
  {
   "cell_type": "code",
   "execution_count": null,
   "metadata": {},
   "outputs": [],
   "source": [
    "## Check performance on test set\n",
    "pred_lm <- predict(lm, newdata = test)\n",
    "print(\"Confusing matrix LM\")\n",
    "confusionMatrix(pred_lm, test$Y)\n",
    "\n",
    "pred_knn <- predict(knnFit, newdata = test)\n",
    "print(\"Confusing matrix kNN\")\n",
    "confusionMatrix(pred_knn, test$Y)\n",
    "\n",
    "pred_lasso <- predict(LassoFit, newdata = test)\n",
    "print(\"Confusing matrix Lasso\")\n",
    "confusionMatrix(pred_lasso, test$Y)\n",
    "\n",
    "pred_rf <- predict(rf, newdata = test)\n",
    "print(\"Confusing matrix Random Forest\")\n",
    "confusionMatrix(pred_rf, test$Y)"
   ]
  }
 ],
 "metadata": {
  "kernelspec": {
   "display_name": "R",
   "language": "R",
   "name": "ir"
  },
  "language_info": {
   "codemirror_mode": "r",
   "file_extension": ".r",
   "mimetype": "text/x-r-source",
   "name": "R",
   "pygments_lexer": "r",
   "version": "3.6.2"
  }
 },
 "nbformat": 4,
 "nbformat_minor": 2
}
